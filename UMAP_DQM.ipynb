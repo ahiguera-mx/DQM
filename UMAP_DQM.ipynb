{
 "cells": [
  {
   "cell_type": "markdown",
   "id": "9962bfef-5e6f-4d1f-b367-0fa8fee0a109",
   "metadata": {
    "tags": []
   },
   "source": [
    "### UMAP for DQM\n",
    "* Load a pre-trained UMAP\n",
    "* Visualize the pre-trained UMAP\n",
    "* Use the pre-trained UMAP to run inferences on a new waveform\n",
    "* Visualize the results on a Bokeh plot\n",
    "\n",
    "A. Higuera (Rice University)"
   ]
  },
  {
   "cell_type": "code",
   "execution_count": null,
   "id": "d5913028-a755-4f95-881b-181a83af4dd4",
   "metadata": {},
   "outputs": [],
   "source": [
    "import matplotlib.pyplot as plt\n",
    "import numpy as np\n",
    "import umap.umap_ as umap\n",
    "import pickle\n",
    "import pandas as pd"
   ]
  },
  {
   "cell_type": "code",
   "execution_count": null,
   "id": "fd6dd911-8b1f-4894-91dd-04bc844fa876",
   "metadata": {
    "tags": []
   },
   "outputs": [],
   "source": [
    "filename = '../model_v0_NP04_run005834_0038_dl7.pkl'"
   ]
  },
  {
   "cell_type": "code",
   "execution_count": null,
   "id": "1879c8b7-af13-4f77-9dcb-9e1c45816536",
   "metadata": {
    "tags": []
   },
   "outputs": [],
   "source": [
    "loaded_reducer = pickle.load(open(filename, 'rb'))"
   ]
  },
  {
   "cell_type": "code",
   "execution_count": null,
   "id": "f8263061-16c9-477c-84e3-c1de9c2bf327",
   "metadata": {
    "tags": []
   },
   "outputs": [],
   "source": [
    "# load training data\n",
    "embedding = np.load('../UMAP_embedding_model_v0_NP04_run005834_0038_dl7.npy')"
   ]
  },
  {
   "cell_type": "code",
   "execution_count": null,
   "id": "cf490fdb-9ba4-49e1-abf4-da26d0f205bd",
   "metadata": {
    "tags": []
   },
   "outputs": [],
   "source": [
    "plt.scatter(embedding[:, 0], embedding[:, 1], cmap='Spectral', s=1)\n",
    "plt.gca().set_aspect('equal', 'datalim')\n",
    "plt.xlabel(\"UMAP latent variable 1\")\n",
    "plt.ylabel(\"UMAP latent variable 1\")\n",
    "plt.title('UMAP projection on taining data', fontsize=12);"
   ]
  },
  {
   "cell_type": "code",
   "execution_count": null,
   "id": "46d3ef77-0189-44e9-8322-e8aec9a6a228",
   "metadata": {
    "tags": []
   },
   "outputs": [],
   "source": [
    "# load some data to do inferences \n",
    "waveforms = np.load('../waveform_data.npy')"
   ]
  },
  {
   "cell_type": "code",
   "execution_count": null,
   "id": "7a3e2619-9d2a-416d-a167-895e0df74991",
   "metadata": {
    "tags": []
   },
   "outputs": [],
   "source": [
    "# this contains two waveforms\n",
    "waveforms.shape"
   ]
  },
  {
   "cell_type": "code",
   "execution_count": null,
   "id": "70c65de0-a789-4e18-8036-160a81af5120",
   "metadata": {
    "tags": []
   },
   "outputs": [],
   "source": [
    "new_embedding = loaded_reducer.transform(waveforms[0])"
   ]
  },
  {
   "cell_type": "code",
   "execution_count": null,
   "id": "62bf012f-0788-491d-86be-d024e6bad168",
   "metadata": {
    "tags": []
   },
   "outputs": [],
   "source": [
    "new_embedding.shape"
   ]
  },
  {
   "cell_type": "code",
   "execution_count": null,
   "id": "f3745caa-da02-4318-9953-00e74a0792fb",
   "metadata": {
    "tags": []
   },
   "outputs": [],
   "source": [
    "wf_test = pd.DataFrame(new_embedding, columns=('x', 'y'))"
   ]
  },
  {
   "cell_type": "code",
   "execution_count": null,
   "id": "8cc9c282-b687-4ee1-9692-29c9405dbc23",
   "metadata": {
    "tags": []
   },
   "outputs": [],
   "source": [
    "wf_test['index'] = indices = [i for i in range(len(waveforms[0]))]"
   ]
  },
  {
   "cell_type": "code",
   "execution_count": null,
   "id": "d8657430-2909-4149-a1ad-8d2543c7b5c0",
   "metadata": {
    "tags": []
   },
   "outputs": [],
   "source": [
    "from io import BytesIO\n",
    "from PIL import Image\n",
    "import base64\n",
    "from bokeh.plotting import figure, show, output_notebook, output_file, save\n",
    "from bokeh.models import HoverTool, ColumnDataSource, CategoricalColorMapper\n",
    "from bokeh.palettes import Spectral10"
   ]
  },
  {
   "cell_type": "code",
   "execution_count": null,
   "id": "c48d0339-a617-4d36-bc79-4ebc33ae3e1a",
   "metadata": {
    "tags": []
   },
   "outputs": [],
   "source": [
    "def embeddable_image(wf):\n",
    "    plt.figure(figsize=(2, 0.4))  # Specify the desired figure size\n",
    "    plt.plot(wf)\n",
    "    plt.axis('off')  # Turn off axes for cleanliness\n",
    "\n",
    "    buffer = BytesIO()\n",
    "    plt.savefig(buffer, format='png', bbox_inches='tight', pad_inches=0)  # Save the plot to a buffer\n",
    "    plt.close()  # Close the plot to free up memory\n",
    "    buffer.seek(0)\n",
    "    image_png = buffer.getvalue()\n",
    "    image_base64 = base64.b64encode(image_png)\n",
    "    return 'data:image/png;base64,' + image_base64.decode()"
   ]
  },
  {
   "cell_type": "code",
   "execution_count": null,
   "id": "6ff63c1b-9190-4c97-8026-db36cd5c352d",
   "metadata": {
    "tags": []
   },
   "outputs": [],
   "source": [
    "wf_test['image'] = list(map(embeddable_image, waveforms[0]))"
   ]
  },
  {
   "cell_type": "code",
   "execution_count": null,
   "id": "42938800-f4b7-4895-ba26-d8812ceff26c",
   "metadata": {
    "tags": []
   },
   "outputs": [],
   "source": [
    "plot_figure = figure(\n",
    "    title='UMAP projection of waveforms',\n",
    "    width=1000,\n",
    "    height=800,\n",
    "    tools=('pan, wheel_zoom, reset')\n",
    ")\n",
    "\n",
    "### Hover plots \n",
    "# Define the hover tool to use 'image' from the data source\n",
    "hover = HoverTool(tooltips=\"\"\"\n",
    "    <div>\n",
    "        <div><img src=\"@image\" style=\"float: left; width:240px; margin: 5px 5px 5px 5px\"/></div>\n",
    "        <div><span style=\"font-size: 16px;\">channel:</span> <span style=\"font-size: 18px;\">@index</span></div>\n",
    "    </div>\n",
    "\"\"\")\n",
    "\n",
    "plot_figure.add_tools(hover)\n",
    "\n",
    "plot_figure.circle(\n",
    "    'x',\n",
    "    'y',\n",
    "    source=wf_test,\n",
    "    line_alpha=0.6,\n",
    "    fill_alpha=1,\n",
    "    size=10,\n",
    "    color='blue'\n",
    ")\n",
    "\n",
    "plot_figure.xaxis.axis_label = \"UMAP latent dimension 1\"  # Replace \"X-Axis Label\" with your actual x-axis label\n",
    "plot_figure.yaxis.axis_label = \"UMAP latent dimension 2\" \n",
    "output_file(\"test.html\")\n",
    "save(plot_figure)"
   ]
  },
  {
   "cell_type": "code",
   "execution_count": null,
   "id": "99ec44bd-105f-41cb-bd0f-89ad745119c4",
   "metadata": {},
   "outputs": [],
   "source": []
  }
 ],
 "metadata": {
  "kernelspec": {
   "display_name": "Python 3 (ipykernel)",
   "language": "python",
   "name": "python3"
  },
  "language_info": {
   "codemirror_mode": {
    "name": "ipython",
    "version": 3
   },
   "file_extension": ".py",
   "mimetype": "text/x-python",
   "name": "python",
   "nbconvert_exporter": "python",
   "pygments_lexer": "ipython3",
   "version": "3.11.0"
  }
 },
 "nbformat": 4,
 "nbformat_minor": 5
}
